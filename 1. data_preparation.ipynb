{
 "cells": [
  {
   "cell_type": "markdown",
   "metadata": {},
   "source": [
    "# **1. Data Preparation**\n",
    "---"
   ]
  },
  {
   "cell_type": "markdown",
   "metadata": {},
   "source": [
    "## **1.1 Read Data**\n",
    "---"
   ]
  },
  {
   "cell_type": "code",
   "execution_count": 1,
   "metadata": {},
   "outputs": [],
   "source": [
    "# Import library\n",
    "import pandas as pd\n",
    "\n",
    "# Load configuration\n",
    "import src.utils as utils"
   ]
  },
  {
   "cell_type": "markdown",
   "metadata": {},
   "source": [
    "Create config file to load and dump data."
   ]
  },
  {
   "cell_type": "code",
   "execution_count": 2,
   "metadata": {},
   "outputs": [
    {
     "data": {
      "text/plain": [
       "{'raw_dataset_path': 'data/raw/german_credit_data.csv',\n",
       " 'dataset_path': 'data/output/data.pkl',\n",
       " 'predictors_set_path': 'data/output/predictors.pkl',\n",
       " 'response_set_path': 'data/output/response.pkl',\n",
       " 'train_path': ['data/output/X_train.pkl', 'data/output/y_train.pkl'],\n",
       " 'test_path': ['data/output/X_test.pkl', 'data/output/y_test.pkl'],\n",
       " 'data_train_path': 'data/output/data_train.pkl',\n",
       " 'data_train_binned_path': 'data/output/data_train_binned.pkl',\n",
       " 'crosstab_list_path': 'data/output/crosstab_list.pkl',\n",
       " 'WOE_table_path': 'data/output/WOE_table.pkl',\n",
       " 'IV_table_path': 'data/output/IV_table.pkl',\n",
       " 'WOE_map_dict_path': 'data/output/WOE_map_dict.pkl',\n",
       " 'X_train_woe_path': 'data/output/X_train_woe.pkl',\n",
       " 'response_variable': 'Risk',\n",
       " 'test_size': 0.2,\n",
       " 'num_variable': ['Age', 'Credit_amount', 'Duration'],\n",
       " 'cat_variable': ['Sex',\n",
       "  'Job',\n",
       "  'Housing',\n",
       "  'Saving_accounts',\n",
       "  'Checking_account',\n",
       "  'Purpose'],\n",
       " 'missing_columns': ['Saving_accounts', 'Checking_account'],\n",
       " 'num_of_bins': 4,\n",
       " 'num_of_cv': 10,\n",
       " 'scoring': 'recall',\n",
       " 'forward_models_path': 'models/forward_models.pkl',\n",
       " 'best_predictors_path': 'models/best_predictors_path.pkl',\n",
       " 'best_model_path': 'models/best_model.pkl',\n",
       " 'best_model_summary_path': 'models/best_model_summary.pkl',\n",
       " 'pdo': 20,\n",
       " 'score_ref': 300,\n",
       " 'odds_ref': 30,\n",
       " 'scorecards_path': 'models/scorecards.pkl',\n",
       " 'points_map_dict_path': 'models/points_map_dict.pkl',\n",
       " 'X_points_path': 'models/X_points.pkl',\n",
       " 'X_train_points_path': 'models/X_train_points.pkl',\n",
       " 'score_path': 'models/score_path.pkl',\n",
       " 'cutoff_score': 150,\n",
       " 'columns_': ['Age',\n",
       "  'Sex',\n",
       "  'Job',\n",
       "  'Saving_accounts',\n",
       "  'Checking_account',\n",
       "  'Purpose']}"
      ]
     },
     "execution_count": 2,
     "metadata": {},
     "output_type": "execute_result"
    }
   ],
   "source": [
    "CONFIG_DATA = utils.config_load()\n",
    "CONFIG_DATA"
   ]
  },
  {
   "cell_type": "code",
   "execution_count": 3,
   "metadata": {},
   "outputs": [],
   "source": [
    "def read_data():\n",
    "    \"\"\"Load data and dump data\"\"\"\n",
    "\n",
    "    # Load data\n",
    "    data_path = CONFIG_DATA['raw_dataset_path']\n",
    "    response_variable = CONFIG_DATA['response_variable']\n",
    "    data = pd.read_csv(data_path).drop(columns=['Unnamed: 0'])\n",
    "    data[response_variable] = data[response_variable].replace({'good':0,'bad':1})\n",
    "    data.columns = ['_'.join(x.split(' ')) for x in data.columns]\n",
    "    \n",
    "    # Validate data shape\n",
    "    print(\"Data shape       :\", data.shape)\n",
    "\n",
    "    # Pickle dumping (save the result)\n",
    "    dump_path = CONFIG_DATA['dataset_path']\n",
    "    utils.pickle_dump(data, dump_path)\n",
    "\n",
    "    return data"
   ]
  },
  {
   "cell_type": "code",
   "execution_count": 4,
   "metadata": {},
   "outputs": [
    {
     "name": "stdout",
     "output_type": "stream",
     "text": [
      "Data shape       : (1000, 10)\n"
     ]
    },
    {
     "data": {
      "text/html": [
       "<div>\n",
       "<style scoped>\n",
       "    .dataframe tbody tr th:only-of-type {\n",
       "        vertical-align: middle;\n",
       "    }\n",
       "\n",
       "    .dataframe tbody tr th {\n",
       "        vertical-align: top;\n",
       "    }\n",
       "\n",
       "    .dataframe thead th {\n",
       "        text-align: right;\n",
       "    }\n",
       "</style>\n",
       "<table border=\"1\" class=\"dataframe\">\n",
       "  <thead>\n",
       "    <tr style=\"text-align: right;\">\n",
       "      <th></th>\n",
       "      <th>Age</th>\n",
       "      <th>Sex</th>\n",
       "      <th>Job</th>\n",
       "      <th>Housing</th>\n",
       "      <th>Saving_accounts</th>\n",
       "      <th>Checking_account</th>\n",
       "      <th>Credit_amount</th>\n",
       "      <th>Duration</th>\n",
       "      <th>Purpose</th>\n",
       "      <th>Risk</th>\n",
       "    </tr>\n",
       "  </thead>\n",
       "  <tbody>\n",
       "    <tr>\n",
       "      <th>0</th>\n",
       "      <td>67</td>\n",
       "      <td>male</td>\n",
       "      <td>2</td>\n",
       "      <td>own</td>\n",
       "      <td>NaN</td>\n",
       "      <td>little</td>\n",
       "      <td>1169</td>\n",
       "      <td>6</td>\n",
       "      <td>radio/TV</td>\n",
       "      <td>0</td>\n",
       "    </tr>\n",
       "    <tr>\n",
       "      <th>1</th>\n",
       "      <td>22</td>\n",
       "      <td>female</td>\n",
       "      <td>2</td>\n",
       "      <td>own</td>\n",
       "      <td>little</td>\n",
       "      <td>moderate</td>\n",
       "      <td>5951</td>\n",
       "      <td>48</td>\n",
       "      <td>radio/TV</td>\n",
       "      <td>1</td>\n",
       "    </tr>\n",
       "    <tr>\n",
       "      <th>2</th>\n",
       "      <td>49</td>\n",
       "      <td>male</td>\n",
       "      <td>1</td>\n",
       "      <td>own</td>\n",
       "      <td>little</td>\n",
       "      <td>NaN</td>\n",
       "      <td>2096</td>\n",
       "      <td>12</td>\n",
       "      <td>education</td>\n",
       "      <td>0</td>\n",
       "    </tr>\n",
       "    <tr>\n",
       "      <th>3</th>\n",
       "      <td>45</td>\n",
       "      <td>male</td>\n",
       "      <td>2</td>\n",
       "      <td>free</td>\n",
       "      <td>little</td>\n",
       "      <td>little</td>\n",
       "      <td>7882</td>\n",
       "      <td>42</td>\n",
       "      <td>furniture/equipment</td>\n",
       "      <td>0</td>\n",
       "    </tr>\n",
       "    <tr>\n",
       "      <th>4</th>\n",
       "      <td>53</td>\n",
       "      <td>male</td>\n",
       "      <td>2</td>\n",
       "      <td>free</td>\n",
       "      <td>little</td>\n",
       "      <td>little</td>\n",
       "      <td>4870</td>\n",
       "      <td>24</td>\n",
       "      <td>car</td>\n",
       "      <td>1</td>\n",
       "    </tr>\n",
       "  </tbody>\n",
       "</table>\n",
       "</div>"
      ],
      "text/plain": [
       "   Age     Sex  Job Housing Saving_accounts Checking_account  Credit_amount  \\\n",
       "0   67    male    2     own             NaN           little           1169   \n",
       "1   22  female    2     own          little         moderate           5951   \n",
       "2   49    male    1     own          little              NaN           2096   \n",
       "3   45    male    2    free          little           little           7882   \n",
       "4   53    male    2    free          little           little           4870   \n",
       "\n",
       "   Duration              Purpose  Risk  \n",
       "0         6             radio/TV     0  \n",
       "1        48             radio/TV     1  \n",
       "2        12            education     0  \n",
       "3        42  furniture/equipment     0  \n",
       "4        24                  car     1  "
      ]
     },
     "execution_count": 4,
     "metadata": {},
     "output_type": "execute_result"
    }
   ],
   "source": [
    "# Check the function\n",
    "data = read_data()\n",
    "data.head()"
   ]
  },
  {
   "cell_type": "markdown",
   "metadata": {},
   "source": [
    "## **1.2 Sample Splitting**\n",
    "---"
   ]
  },
  {
   "cell_type": "markdown",
   "metadata": {},
   "source": [
    "- Split input & output data and dump them\n",
    "- Update the config file to contain\n",
    "    - The input & output data path\n",
    "    - The output variable name\n",
    "    - The input columns name"
   ]
  },
  {
   "cell_type": "code",
   "execution_count": 5,
   "metadata": {},
   "outputs": [
    {
     "data": {
      "text/plain": [
       "{'raw_dataset_path': 'data/raw/german_credit_data.csv',\n",
       " 'dataset_path': 'data/output/data.pkl',\n",
       " 'predictors_set_path': 'data/output/predictors.pkl',\n",
       " 'response_set_path': 'data/output/response.pkl',\n",
       " 'train_path': ['data/output/X_train.pkl', 'data/output/y_train.pkl'],\n",
       " 'test_path': ['data/output/X_test.pkl', 'data/output/y_test.pkl'],\n",
       " 'data_train_path': 'data/output/data_train.pkl',\n",
       " 'data_train_binned_path': 'data/output/data_train_binned.pkl',\n",
       " 'crosstab_list_path': 'data/output/crosstab_list.pkl',\n",
       " 'WOE_table_path': 'data/output/WOE_table.pkl',\n",
       " 'IV_table_path': 'data/output/IV_table.pkl',\n",
       " 'WOE_map_dict_path': 'data/output/WOE_map_dict.pkl',\n",
       " 'X_train_woe_path': 'data/output/X_train_woe.pkl',\n",
       " 'response_variable': 'Risk',\n",
       " 'test_size': 0.2,\n",
       " 'num_variable': ['Age', 'Credit_amount', 'Duration'],\n",
       " 'cat_variable': ['Sex',\n",
       "  'Job',\n",
       "  'Housing',\n",
       "  'Saving_accounts',\n",
       "  'Checking_account',\n",
       "  'Purpose'],\n",
       " 'missing_columns': ['Saving_accounts', 'Checking_account'],\n",
       " 'num_of_bins': 4,\n",
       " 'num_of_cv': 10,\n",
       " 'scoring': 'recall',\n",
       " 'forward_models_path': 'models/forward_models.pkl',\n",
       " 'best_predictors_path': 'models/best_predictors_path.pkl',\n",
       " 'best_model_path': 'models/best_model.pkl',\n",
       " 'best_model_summary_path': 'models/best_model_summary.pkl',\n",
       " 'pdo': 20,\n",
       " 'score_ref': 300,\n",
       " 'odds_ref': 30,\n",
       " 'scorecards_path': 'models/scorecards.pkl',\n",
       " 'points_map_dict_path': 'models/points_map_dict.pkl',\n",
       " 'X_points_path': 'models/X_points.pkl',\n",
       " 'X_train_points_path': 'models/X_train_points.pkl',\n",
       " 'score_path': 'models/score_path.pkl',\n",
       " 'cutoff_score': 150,\n",
       " 'columns_': ['Age',\n",
       "  'Sex',\n",
       "  'Job',\n",
       "  'Saving_accounts',\n",
       "  'Checking_account',\n",
       "  'Purpose']}"
      ]
     },
     "execution_count": 5,
     "metadata": {},
     "output_type": "execute_result"
    }
   ],
   "source": [
    "CONFIG_DATA = utils.config_load()\n",
    "CONFIG_DATA"
   ]
  },
  {
   "cell_type": "code",
   "execution_count": 6,
   "metadata": {},
   "outputs": [],
   "source": [
    "def split_input_output():\n",
    "    \"\"\"Split input (predictors) and output (responses)\"\"\"\n",
    "    \n",
    "    # Load data\n",
    "    dataset_path = CONFIG_DATA['dataset_path']\n",
    "    data = utils.pickle_load(dataset_path)\n",
    "\n",
    "    # Define y\n",
    "    response_variable = CONFIG_DATA['response_variable']\n",
    "    y = data[response_variable]\n",
    "\n",
    "    # Define X\n",
    "    X = data.drop(columns = [response_variable],\n",
    "                  axis = 1)\n",
    "    \n",
    "    # Validate the splitting\n",
    "    print('y shape :', y.shape)\n",
    "    print('X shape :', X.shape)\n",
    "\n",
    "    # Dumping\n",
    "    dump_path_predictors = CONFIG_DATA['predictors_set_path']\n",
    "    utils.pickle_dump(X, dump_path_predictors)\n",
    "\n",
    "    dump_path_response = CONFIG_DATA['response_set_path']    \n",
    "    utils.pickle_dump(y, dump_path_response)\n",
    "    \n",
    "    return X, y"
   ]
  },
  {
   "cell_type": "code",
   "execution_count": 7,
   "metadata": {},
   "outputs": [
    {
     "name": "stdout",
     "output_type": "stream",
     "text": [
      "y shape : (1000,)\n",
      "X shape : (1000, 9)\n"
     ]
    }
   ],
   "source": [
    "# Check the function\n",
    "X, y = split_input_output()"
   ]
  },
  {
   "cell_type": "code",
   "execution_count": 8,
   "metadata": {},
   "outputs": [
    {
     "data": {
      "text/html": [
       "<div>\n",
       "<style scoped>\n",
       "    .dataframe tbody tr th:only-of-type {\n",
       "        vertical-align: middle;\n",
       "    }\n",
       "\n",
       "    .dataframe tbody tr th {\n",
       "        vertical-align: top;\n",
       "    }\n",
       "\n",
       "    .dataframe thead th {\n",
       "        text-align: right;\n",
       "    }\n",
       "</style>\n",
       "<table border=\"1\" class=\"dataframe\">\n",
       "  <thead>\n",
       "    <tr style=\"text-align: right;\">\n",
       "      <th></th>\n",
       "      <th>Age</th>\n",
       "      <th>Sex</th>\n",
       "      <th>Job</th>\n",
       "      <th>Housing</th>\n",
       "      <th>Saving_accounts</th>\n",
       "      <th>Checking_account</th>\n",
       "      <th>Credit_amount</th>\n",
       "      <th>Duration</th>\n",
       "      <th>Purpose</th>\n",
       "    </tr>\n",
       "  </thead>\n",
       "  <tbody>\n",
       "    <tr>\n",
       "      <th>0</th>\n",
       "      <td>67</td>\n",
       "      <td>male</td>\n",
       "      <td>2</td>\n",
       "      <td>own</td>\n",
       "      <td>NaN</td>\n",
       "      <td>little</td>\n",
       "      <td>1169</td>\n",
       "      <td>6</td>\n",
       "      <td>radio/TV</td>\n",
       "    </tr>\n",
       "    <tr>\n",
       "      <th>1</th>\n",
       "      <td>22</td>\n",
       "      <td>female</td>\n",
       "      <td>2</td>\n",
       "      <td>own</td>\n",
       "      <td>little</td>\n",
       "      <td>moderate</td>\n",
       "      <td>5951</td>\n",
       "      <td>48</td>\n",
       "      <td>radio/TV</td>\n",
       "    </tr>\n",
       "    <tr>\n",
       "      <th>2</th>\n",
       "      <td>49</td>\n",
       "      <td>male</td>\n",
       "      <td>1</td>\n",
       "      <td>own</td>\n",
       "      <td>little</td>\n",
       "      <td>NaN</td>\n",
       "      <td>2096</td>\n",
       "      <td>12</td>\n",
       "      <td>education</td>\n",
       "    </tr>\n",
       "    <tr>\n",
       "      <th>3</th>\n",
       "      <td>45</td>\n",
       "      <td>male</td>\n",
       "      <td>2</td>\n",
       "      <td>free</td>\n",
       "      <td>little</td>\n",
       "      <td>little</td>\n",
       "      <td>7882</td>\n",
       "      <td>42</td>\n",
       "      <td>furniture/equipment</td>\n",
       "    </tr>\n",
       "    <tr>\n",
       "      <th>4</th>\n",
       "      <td>53</td>\n",
       "      <td>male</td>\n",
       "      <td>2</td>\n",
       "      <td>free</td>\n",
       "      <td>little</td>\n",
       "      <td>little</td>\n",
       "      <td>4870</td>\n",
       "      <td>24</td>\n",
       "      <td>car</td>\n",
       "    </tr>\n",
       "  </tbody>\n",
       "</table>\n",
       "</div>"
      ],
      "text/plain": [
       "   Age     Sex  Job Housing Saving_accounts Checking_account  Credit_amount  \\\n",
       "0   67    male    2     own             NaN           little           1169   \n",
       "1   22  female    2     own          little         moderate           5951   \n",
       "2   49    male    1     own          little              NaN           2096   \n",
       "3   45    male    2    free          little           little           7882   \n",
       "4   53    male    2    free          little           little           4870   \n",
       "\n",
       "   Duration              Purpose  \n",
       "0         6             radio/TV  \n",
       "1        48             radio/TV  \n",
       "2        12            education  \n",
       "3        42  furniture/equipment  \n",
       "4        24                  car  "
      ]
     },
     "execution_count": 8,
     "metadata": {},
     "output_type": "execute_result"
    }
   ],
   "source": [
    "X.head()"
   ]
  },
  {
   "cell_type": "code",
   "execution_count": 9,
   "metadata": {},
   "outputs": [
    {
     "data": {
      "text/plain": [
       "0    0\n",
       "1    1\n",
       "2    0\n",
       "3    0\n",
       "4    1\n",
       "Name: Risk, dtype: int64"
      ]
     },
     "execution_count": 9,
     "metadata": {},
     "output_type": "execute_result"
    }
   ],
   "source": [
    "y.head()"
   ]
  },
  {
   "cell_type": "markdown",
   "metadata": {},
   "source": [
    "Next, split the training and testing set from each predictors (X) and response (y).\n",
    "- Set `stratify = y` for splitting the sample with stratify, based on the proportion of response y.\n",
    "- Set `test_size = 0.2` for holding 30% of the sample as a testing set.\n",
    "- Set `random_state = 123` for reproducibility."
   ]
  },
  {
   "cell_type": "code",
   "execution_count": 10,
   "metadata": {},
   "outputs": [],
   "source": [
    "# Import library \n",
    "from sklearn.model_selection import train_test_split"
   ]
  },
  {
   "cell_type": "markdown",
   "metadata": {},
   "source": [
    "Update the config file to have train & test data path and test size."
   ]
  },
  {
   "cell_type": "code",
   "execution_count": 11,
   "metadata": {},
   "outputs": [
    {
     "data": {
      "text/plain": [
       "{'raw_dataset_path': 'data/raw/german_credit_data.csv',\n",
       " 'dataset_path': 'data/output/data.pkl',\n",
       " 'predictors_set_path': 'data/output/predictors.pkl',\n",
       " 'response_set_path': 'data/output/response.pkl',\n",
       " 'train_path': ['data/output/X_train.pkl', 'data/output/y_train.pkl'],\n",
       " 'test_path': ['data/output/X_test.pkl', 'data/output/y_test.pkl'],\n",
       " 'data_train_path': 'data/output/data_train.pkl',\n",
       " 'data_train_binned_path': 'data/output/data_train_binned.pkl',\n",
       " 'crosstab_list_path': 'data/output/crosstab_list.pkl',\n",
       " 'WOE_table_path': 'data/output/WOE_table.pkl',\n",
       " 'IV_table_path': 'data/output/IV_table.pkl',\n",
       " 'WOE_map_dict_path': 'data/output/WOE_map_dict.pkl',\n",
       " 'X_train_woe_path': 'data/output/X_train_woe.pkl',\n",
       " 'response_variable': 'Risk',\n",
       " 'test_size': 0.2,\n",
       " 'num_variable': ['Age', 'Credit_amount', 'Duration'],\n",
       " 'cat_variable': ['Sex',\n",
       "  'Job',\n",
       "  'Housing',\n",
       "  'Saving_accounts',\n",
       "  'Checking_account',\n",
       "  'Purpose'],\n",
       " 'missing_columns': ['Saving_accounts', 'Checking_account'],\n",
       " 'num_of_bins': 4,\n",
       " 'num_of_cv': 10,\n",
       " 'scoring': 'recall',\n",
       " 'forward_models_path': 'models/forward_models.pkl',\n",
       " 'best_predictors_path': 'models/best_predictors_path.pkl',\n",
       " 'best_model_path': 'models/best_model.pkl',\n",
       " 'best_model_summary_path': 'models/best_model_summary.pkl',\n",
       " 'pdo': 20,\n",
       " 'score_ref': 300,\n",
       " 'odds_ref': 30,\n",
       " 'scorecards_path': 'models/scorecards.pkl',\n",
       " 'points_map_dict_path': 'models/points_map_dict.pkl',\n",
       " 'X_points_path': 'models/X_points.pkl',\n",
       " 'X_train_points_path': 'models/X_train_points.pkl',\n",
       " 'score_path': 'models/score_path.pkl',\n",
       " 'cutoff_score': 150,\n",
       " 'columns_': ['Age',\n",
       "  'Sex',\n",
       "  'Job',\n",
       "  'Saving_accounts',\n",
       "  'Checking_account',\n",
       "  'Purpose']}"
      ]
     },
     "execution_count": 11,
     "metadata": {},
     "output_type": "execute_result"
    }
   ],
   "source": [
    "CONFIG_DATA = utils.config_load()\n",
    "CONFIG_DATA"
   ]
  },
  {
   "cell_type": "code",
   "execution_count": 12,
   "metadata": {},
   "outputs": [],
   "source": [
    "def split_train_test():\n",
    "    \"\"\"Split train & test, then dump the data\"\"\"\n",
    "    \n",
    "    # Load the X and y\n",
    "    X = utils.pickle_load(CONFIG_DATA['predictors_set_path'])\n",
    "    y = utils.pickle_load(CONFIG_DATA['response_set_path'])\n",
    "\n",
    "    # Split the data\n",
    "    X_train, X_test, y_train, y_test = train_test_split(X,\n",
    "                                                        y,\n",
    "                                                        stratify = y,\n",
    "                                                        test_size = CONFIG_DATA['test_size'],\n",
    "                                                        random_state = 123)\n",
    "    # Validate splitting\n",
    "    print('X_train shape :', X_train.shape)\n",
    "    print('y_train shape :', y_train.shape)\n",
    "    print('X_test shape  :', X_test.shape)\n",
    "    print('y_test shape  :', y_test.shape)\n",
    "\n",
    "    # Dump data\n",
    "    utils.pickle_dump(X_train, CONFIG_DATA['train_path'][0])\n",
    "    utils.pickle_dump(y_train, CONFIG_DATA['train_path'][1])\n",
    "    utils.pickle_dump(X_test, CONFIG_DATA['test_path'][0])\n",
    "    utils.pickle_dump(y_test, CONFIG_DATA['test_path'][1])\n",
    "\n",
    "    return X_train, X_test, y_train, y_test"
   ]
  },
  {
   "cell_type": "code",
   "execution_count": 13,
   "metadata": {},
   "outputs": [
    {
     "name": "stdout",
     "output_type": "stream",
     "text": [
      "X_train shape : (800, 9)\n",
      "y_train shape : (800,)\n",
      "X_test shape  : (200, 9)\n",
      "y_test shape  : (200,)\n"
     ]
    }
   ],
   "source": [
    "# Check the function\n",
    "X_train, X_test, y_train, y_test = split_train_test()"
   ]
  }
 ],
 "metadata": {
  "kernelspec": {
   "display_name": "Python 3 (ipykernel)",
   "language": "python",
   "name": "python3"
  },
  "language_info": {
   "codemirror_mode": {
    "name": "ipython",
    "version": 3
   },
   "file_extension": ".py",
   "mimetype": "text/x-python",
   "name": "python",
   "nbconvert_exporter": "python",
   "pygments_lexer": "ipython3",
   "version": "3.9.13"
  }
 },
 "nbformat": 4,
 "nbformat_minor": 4
}
